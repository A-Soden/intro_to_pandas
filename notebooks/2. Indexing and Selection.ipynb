{
 "cells": [
  {
   "cell_type": "markdown",
   "metadata": {},
   "source": [
    "# Indexing and Selection\n",
    "\n",
    "Now that we are familiar with pandas' data structures, we can turn our attention to some of the intermediate features of data frames, which include:\n",
    "    \n",
    "- Intelligent label-based **slicing, fancy indexing, and subsetting** of large data sets\n",
    "- **Hierarchical labeling** of axes\n",
    "- **Sorting and ranking** of data in DataFrames\n",
    "- Easy handling of **missing data**\n",
    "- Data **summarization** tools"
   ]
  },
  {
   "cell_type": "markdown",
   "metadata": {},
   "source": [
    "In this section, we will manipulate data collected from ocean-going vessels on the eastern seaboard. Vessel operations are monitored using the **Automatic Identification System (AIS)**, a safety at sea navigation technology which vessels are required to maintain and that uses transponders to transmit very high frequency (VHF) radio signals containing static information including ship name, call sign, and country of origin, as well as dynamic information unique to a particular voyage such as vessel location, heading, and speed. \n",
    "\n",
    "![AIS](images/ais.gif)\n",
    "\n",
    "The International Maritime Organization’s (IMO) International Convention for the Safety of Life at Sea requires functioning AIS capabilities on all vessels 300 gross tons or greater and the US Coast Guard requires AIS on nearly all vessels sailing in U.S. waters. The Coast Guard has established a national network of AIS receivers that provides coverage of nearly all U.S. waters. **AIS signals** are transmitted several times each minute and the network is capable of handling thousands of reports per minute and updates as often as every two seconds. Therefore, a typical voyage in our study might include the transmission of hundreds or thousands of AIS encoded signals. This provides a rich source of spatial data that includes both **spatial and temporal information**.\n",
    "\n",
    "For our purposes, we will use **summarized data** that describes the transit of a given vessel through a particular administrative area. The data includes the start and end time of the transit segment, as well as information about the speed of the vessel, how far it travelled, etc."
   ]
  },
  {
   "cell_type": "code",
   "execution_count": 8,
   "metadata": {},
   "outputs": [],
   "source": [
    "import pandas as pd\n",
    "import numpy as np\n",
    "\n",
    "vessels = pd.read_csv('../data/AIS/vessel_information.csv', index_col=0)"
   ]
  },
  {
   "cell_type": "code",
   "execution_count": 9,
   "metadata": {},
   "outputs": [
    {
     "data": {
      "text/plain": [
       "(10771, 10)"
      ]
     },
     "execution_count": 9,
     "metadata": {},
     "output_type": "execute_result"
    }
   ],
   "source": [
    "vessels.shape"
   ]
  },
  {
   "cell_type": "markdown",
   "metadata": {},
   "source": [
    "## Indexing and Selection\n",
    "\n",
    "Indexing works analogously to indexing in NumPy arrays, except we can use the labels in the `Index` object to extract values in addition to arrays of integers."
   ]
  },
  {
   "cell_type": "code",
   "execution_count": 12,
   "metadata": {},
   "outputs": [
    {
     "data": {
      "text/plain": [
       "Index(['num_names', 'names', 'sov', 'flag', 'flag_type', 'num_loas', 'loa',\n",
       "       'max_loa', 'num_types', 'type'],\n",
       "      dtype='object')"
      ]
     },
     "execution_count": 12,
     "metadata": {},
     "output_type": "execute_result"
    }
   ],
   "source": [
    "vessels.columns"
   ]
  },
  {
   "cell_type": "code",
   "execution_count": 13,
   "metadata": {},
   "outputs": [
    {
     "data": {
      "text/plain": [
       "mmsi\n",
       "1                                               Unknown\n",
       "9                                               Unknown\n",
       "21                                              Unknown\n",
       "74                                              Unknown\n",
       "103                                             Unknown\n",
       "310                                            Bermuda \n",
       "3011                                          Anguilla \n",
       "4731                               Yemen (Republic of) \n",
       "15151                                           Unknown\n",
       "46809                             Syrian Arab Republic \n",
       "80404                                           Unknown\n",
       "82003                                           Unknown\n",
       "298716                                          Unknown\n",
       "366235                        United States of America \n",
       "439541                                          Unknown\n",
       "453556                                          Unknown\n",
       "505843                                          Unknown\n",
       "527918                                          Unknown\n",
       "565026                          Singapore (Republic of)\n",
       "572329                                          Tuvalu \n",
       "587370                                          Unknown\n",
       "641114                                          Unknown\n",
       "642262       Socialist People's Libyan Arab Jamahiriya \n",
       "693559                                          Unknown\n",
       "883085                                          Unknown\n",
       "1193046                                         Unknown\n",
       "1193946                                         Unknown\n",
       "1233916                                         Unknown\n",
       "1239468                                         Unknown\n",
       "3041300                            Antigua and Barbuda \n",
       "                                ...                    \n",
       "720728000                        Bolivia (Republic of) \n",
       "720754000                        Bolivia (Republic of) \n",
       "720768000                        Bolivia (Republic of) \n",
       "725004700                                        Chile \n",
       "725005560                                        Chile \n",
       "725005570                                        Chile \n",
       "725011300                                        Chile \n",
       "725018300                                        Chile \n",
       "725019006                                        Chile \n",
       "725021000                                        Chile \n",
       "725022000                                        Chile \n",
       "730000161                       Colombia (Republic of) \n",
       "730010001                       Colombia (Republic of) \n",
       "730026000                       Colombia (Republic of) \n",
       "730031000                       Colombia (Republic of) \n",
       "735057548                                      Ecuador \n",
       "735059037                                      Ecuador \n",
       "760101000                                         Peru \n",
       "770576100                Uruguay (Eastern Republic of) \n",
       "812719000                                       Unknown\n",
       "857632392                                       Unknown\n",
       "866946820                                       Unknown\n",
       "888888882                                       Unknown\n",
       "888888888                                       Unknown\n",
       "900000000                                       Unknown\n",
       "919191919                                       Unknown\n",
       "967191190                                       Unknown\n",
       "975318642                                       Unknown\n",
       "987654321                                       Unknown\n",
       "999999999                                       Unknown\n",
       "Name: flag, Length: 10771, dtype: object"
      ]
     },
     "execution_count": 13,
     "metadata": {},
     "output_type": "execute_result"
    }
   ],
   "source": [
    "# Sample Series object\n",
    "flag = vessels.flag\n",
    "flag"
   ]
  },
  {
   "cell_type": "code",
   "execution_count": 14,
   "metadata": {},
   "outputs": [
    {
     "data": {
      "text/plain": [
       "mmsi\n",
       "1                      Unknown\n",
       "9                      Unknown\n",
       "21                     Unknown\n",
       "74                     Unknown\n",
       "103                    Unknown\n",
       "310                   Bermuda \n",
       "3011                 Anguilla \n",
       "4731      Yemen (Republic of) \n",
       "15151                  Unknown\n",
       "46809    Syrian Arab Republic \n",
       "Name: flag, dtype: object"
      ]
     },
     "execution_count": 14,
     "metadata": {},
     "output_type": "execute_result"
    }
   ],
   "source": [
    "# Numpy-style indexing\n",
    "flag[:10]"
   ]
  },
  {
   "cell_type": "code",
   "execution_count": 15,
   "metadata": {},
   "outputs": [
    {
     "data": {
      "text/plain": [
       "mmsi\n",
       "298716       Unknown\n",
       "725011300     Chile \n",
       "Name: flag, dtype: object"
      ]
     },
     "execution_count": 15,
     "metadata": {},
     "output_type": "execute_result"
    }
   ],
   "source": [
    "# Indexing by label\n",
    "flag[[298716,725011300]]"
   ]
  },
  {
   "cell_type": "markdown",
   "metadata": {},
   "source": [
    "In a `DataFrame` we can slice along either or both axes:"
   ]
  },
  {
   "cell_type": "code",
   "execution_count": 16,
   "metadata": {},
   "outputs": [
    {
     "data": {
      "text/html": [
       "<div>\n",
       "<style>\n",
       "    .dataframe thead tr:only-child th {\n",
       "        text-align: right;\n",
       "    }\n",
       "\n",
       "    .dataframe thead th {\n",
       "        text-align: left;\n",
       "    }\n",
       "\n",
       "    .dataframe tbody tr th {\n",
       "        vertical-align: top;\n",
       "    }\n",
       "</style>\n",
       "<table border=\"1\" class=\"dataframe\">\n",
       "  <thead>\n",
       "    <tr style=\"text-align: right;\">\n",
       "      <th></th>\n",
       "      <th>num_names</th>\n",
       "      <th>num_types</th>\n",
       "    </tr>\n",
       "    <tr>\n",
       "      <th>mmsi</th>\n",
       "      <th></th>\n",
       "      <th></th>\n",
       "    </tr>\n",
       "  </thead>\n",
       "  <tbody>\n",
       "    <tr>\n",
       "      <th>1</th>\n",
       "      <td>8</td>\n",
       "      <td>4</td>\n",
       "    </tr>\n",
       "    <tr>\n",
       "      <th>9</th>\n",
       "      <td>3</td>\n",
       "      <td>2</td>\n",
       "    </tr>\n",
       "    <tr>\n",
       "      <th>21</th>\n",
       "      <td>1</td>\n",
       "      <td>1</td>\n",
       "    </tr>\n",
       "    <tr>\n",
       "      <th>74</th>\n",
       "      <td>2</td>\n",
       "      <td>1</td>\n",
       "    </tr>\n",
       "    <tr>\n",
       "      <th>103</th>\n",
       "      <td>3</td>\n",
       "      <td>2</td>\n",
       "    </tr>\n",
       "  </tbody>\n",
       "</table>\n",
       "</div>"
      ],
      "text/plain": [
       "      num_names  num_types\n",
       "mmsi                      \n",
       "1             8          4\n",
       "9             3          2\n",
       "21            1          1\n",
       "74            2          1\n",
       "103           3          2"
      ]
     },
     "execution_count": 16,
     "metadata": {},
     "output_type": "execute_result"
    }
   ],
   "source": [
    "vessels[['num_names','num_types']].head()"
   ]
  },
  {
   "cell_type": "code",
   "execution_count": 18,
   "metadata": {},
   "outputs": [
    {
     "data": {
      "text/html": [
       "<div>\n",
       "<style>\n",
       "    .dataframe thead tr:only-child th {\n",
       "        text-align: right;\n",
       "    }\n",
       "\n",
       "    .dataframe thead th {\n",
       "        text-align: left;\n",
       "    }\n",
       "\n",
       "    .dataframe tbody tr th {\n",
       "        vertical-align: top;\n",
       "    }\n",
       "</style>\n",
       "<table border=\"1\" class=\"dataframe\">\n",
       "  <thead>\n",
       "    <tr style=\"text-align: right;\">\n",
       "      <th></th>\n",
       "      <th>num_names</th>\n",
       "      <th>names</th>\n",
       "      <th>sov</th>\n",
       "      <th>flag</th>\n",
       "      <th>flag_type</th>\n",
       "      <th>num_loas</th>\n",
       "      <th>loa</th>\n",
       "      <th>max_loa</th>\n",
       "      <th>num_types</th>\n",
       "      <th>type</th>\n",
       "    </tr>\n",
       "    <tr>\n",
       "      <th>mmsi</th>\n",
       "      <th></th>\n",
       "      <th></th>\n",
       "      <th></th>\n",
       "      <th></th>\n",
       "      <th></th>\n",
       "      <th></th>\n",
       "      <th></th>\n",
       "      <th></th>\n",
       "      <th></th>\n",
       "      <th></th>\n",
       "    </tr>\n",
       "  </thead>\n",
       "  <tbody>\n",
       "    <tr>\n",
       "      <th>211311970</th>\n",
       "      <td>2</td>\n",
       "      <td>Antwerpen Express/Dallas Express</td>\n",
       "      <td>N</td>\n",
       "      <td>Germany (Federal Republic of)</td>\n",
       "      <td>Foreign</td>\n",
       "      <td>3</td>\n",
       "      <td>294.0/512.0/806.0</td>\n",
       "      <td>806.0</td>\n",
       "      <td>1</td>\n",
       "      <td>Cargo</td>\n",
       "    </tr>\n",
       "    <tr>\n",
       "      <th>218292000</th>\n",
       "      <td>1</td>\n",
       "      <td>Seapike</td>\n",
       "      <td>N</td>\n",
       "      <td>Germany (Federal Republic of)</td>\n",
       "      <td>Foreign</td>\n",
       "      <td>3</td>\n",
       "      <td>199.0/200.0/711.0</td>\n",
       "      <td>711.0</td>\n",
       "      <td>1</td>\n",
       "      <td>Tanker</td>\n",
       "    </tr>\n",
       "    <tr>\n",
       "      <th>235760000</th>\n",
       "      <td>1</td>\n",
       "      <td>Methane Princess</td>\n",
       "      <td>N</td>\n",
       "      <td>United Kingdom of Great Britain and Northern I...</td>\n",
       "      <td>Foreign</td>\n",
       "      <td>2</td>\n",
       "      <td>277.0/789.0</td>\n",
       "      <td>789.0</td>\n",
       "      <td>1</td>\n",
       "      <td>Tanker</td>\n",
       "    </tr>\n",
       "    <tr>\n",
       "      <th>354092000</th>\n",
       "      <td>1</td>\n",
       "      <td>Msc Laura</td>\n",
       "      <td>N</td>\n",
       "      <td>Panama (Republic of)</td>\n",
       "      <td>Foreign</td>\n",
       "      <td>3</td>\n",
       "      <td>300.0/301.0/812.0</td>\n",
       "      <td>812.0</td>\n",
       "      <td>1</td>\n",
       "      <td>Cargo</td>\n",
       "    </tr>\n",
       "    <tr>\n",
       "      <th>538090124</th>\n",
       "      <td>1</td>\n",
       "      <td>Pacific Destiny</td>\n",
       "      <td>N</td>\n",
       "      <td>Marshall Islands (Republic of the)</td>\n",
       "      <td>Foreign</td>\n",
       "      <td>2</td>\n",
       "      <td>196.0/708.0</td>\n",
       "      <td>708.0</td>\n",
       "      <td>1</td>\n",
       "      <td>Cargo</td>\n",
       "    </tr>\n",
       "  </tbody>\n",
       "</table>\n",
       "</div>"
      ],
      "text/plain": [
       "           num_names                             names sov  \\\n",
       "mmsi                                                         \n",
       "211311970          2  Antwerpen Express/Dallas Express   N   \n",
       "218292000          1                           Seapike   N   \n",
       "235760000          1                  Methane Princess   N   \n",
       "354092000          1                         Msc Laura   N   \n",
       "538090124          1                   Pacific Destiny   N   \n",
       "\n",
       "                                                        flag flag_type  \\\n",
       "mmsi                                                                     \n",
       "211311970                     Germany (Federal Republic of)    Foreign   \n",
       "218292000                     Germany (Federal Republic of)    Foreign   \n",
       "235760000  United Kingdom of Great Britain and Northern I...   Foreign   \n",
       "354092000                              Panama (Republic of)    Foreign   \n",
       "538090124                Marshall Islands (Republic of the)    Foreign   \n",
       "\n",
       "           num_loas                loa  max_loa  num_types    type  \n",
       "mmsi                                                                \n",
       "211311970         3  294.0/512.0/806.0    806.0          1   Cargo  \n",
       "218292000         3  199.0/200.0/711.0    711.0          1  Tanker  \n",
       "235760000         2        277.0/789.0    789.0          1  Tanker  \n",
       "354092000         3  300.0/301.0/812.0    812.0          1   Cargo  \n",
       "538090124         2        196.0/708.0    708.0          1   Cargo  "
      ]
     },
     "execution_count": 18,
     "metadata": {},
     "output_type": "execute_result"
    }
   ],
   "source": [
    "vessels[vessels.max_loa>700]"
   ]
  },
  {
   "cell_type": "markdown",
   "metadata": {},
   "source": [
    "The indexing field `loc` allows us to select subsets of rows and columns in an intuitive way:"
   ]
  },
  {
   "cell_type": "code",
   "execution_count": 19,
   "metadata": {},
   "outputs": [
    {
     "data": {
      "text/plain": [
       "names             Rusty Pelican\n",
       "flag     Bolivia (Republic of) \n",
       "type                     Towing\n",
       "Name: 720768000, dtype: object"
      ]
     },
     "execution_count": 19,
     "metadata": {},
     "output_type": "execute_result"
    }
   ],
   "source": [
    "vessels.loc[720768000, ['names','flag', 'type']]"
   ]
  },
  {
   "cell_type": "code",
   "execution_count": 20,
   "metadata": {},
   "outputs": [
    {
     "data": {
      "text/plain": [
       "mmsi\n",
       "1       Bil Holman Dredge/Dredge Capt Frank/Emo/Offsho...\n",
       "9                              000000009/Raven/Shearwater\n",
       "21                                          Us Gov Vessel\n",
       "74                                      Mcfaul/Sarah Bell\n",
       "103              Ron G/Us Navy Warship 103/Us Warship 103\n",
       "310                                              Arabella\n",
       "3011                                           Charleston\n",
       "4731                                            000004731\n",
       "Name: names, dtype: object"
      ]
     },
     "execution_count": 20,
     "metadata": {},
     "output_type": "execute_result"
    }
   ],
   "source": [
    "vessels.loc[:4731, 'names']"
   ]
  },
  {
   "cell_type": "markdown",
   "metadata": {},
   "source": [
    "Slicing also works with string variables, since an index has an intrinsic order, regardless of label:"
   ]
  },
  {
   "cell_type": "code",
   "execution_count": 22,
   "metadata": {},
   "outputs": [
    {
     "data": {
      "text/plain": [
       "Index(['num_names', 'names', 'sov', 'flag', 'flag_type', 'num_loas', 'loa',\n",
       "       'max_loa', 'num_types', 'type'],\n",
       "      dtype='object')"
      ]
     },
     "execution_count": 22,
     "metadata": {},
     "output_type": "execute_result"
    }
   ],
   "source": [
    "vessels.columns"
   ]
  },
  {
   "cell_type": "code",
   "execution_count": 21,
   "metadata": {},
   "outputs": [
    {
     "data": {
      "text/html": [
       "<div>\n",
       "<style>\n",
       "    .dataframe thead tr:only-child th {\n",
       "        text-align: right;\n",
       "    }\n",
       "\n",
       "    .dataframe thead th {\n",
       "        text-align: left;\n",
       "    }\n",
       "\n",
       "    .dataframe tbody tr th {\n",
       "        vertical-align: top;\n",
       "    }\n",
       "</style>\n",
       "<table border=\"1\" class=\"dataframe\">\n",
       "  <thead>\n",
       "    <tr style=\"text-align: right;\">\n",
       "      <th></th>\n",
       "      <th>flag</th>\n",
       "      <th>flag_type</th>\n",
       "      <th>num_loas</th>\n",
       "      <th>loa</th>\n",
       "    </tr>\n",
       "    <tr>\n",
       "      <th>mmsi</th>\n",
       "      <th></th>\n",
       "      <th></th>\n",
       "      <th></th>\n",
       "      <th></th>\n",
       "    </tr>\n",
       "  </thead>\n",
       "  <tbody>\n",
       "    <tr>\n",
       "      <th>1</th>\n",
       "      <td>Unknown</td>\n",
       "      <td>Unknown</td>\n",
       "      <td>7</td>\n",
       "      <td>42.0/48.0/57.0/90.0/138.0/154.0/156.0</td>\n",
       "    </tr>\n",
       "    <tr>\n",
       "      <th>9</th>\n",
       "      <td>Unknown</td>\n",
       "      <td>Unknown</td>\n",
       "      <td>2</td>\n",
       "      <td>50.0/62.0</td>\n",
       "    </tr>\n",
       "    <tr>\n",
       "      <th>21</th>\n",
       "      <td>Unknown</td>\n",
       "      <td>Unknown</td>\n",
       "      <td>1</td>\n",
       "      <td>208.0</td>\n",
       "    </tr>\n",
       "    <tr>\n",
       "      <th>74</th>\n",
       "      <td>Unknown</td>\n",
       "      <td>Unknown</td>\n",
       "      <td>1</td>\n",
       "      <td>155.0</td>\n",
       "    </tr>\n",
       "    <tr>\n",
       "      <th>103</th>\n",
       "      <td>Unknown</td>\n",
       "      <td>Unknown</td>\n",
       "      <td>2</td>\n",
       "      <td>26.0/155.0</td>\n",
       "    </tr>\n",
       "    <tr>\n",
       "      <th>310</th>\n",
       "      <td>Bermuda</td>\n",
       "      <td>Foreign</td>\n",
       "      <td>1</td>\n",
       "      <td>47.0</td>\n",
       "    </tr>\n",
       "  </tbody>\n",
       "</table>\n",
       "</div>"
      ],
      "text/plain": [
       "          flag flag_type  num_loas                                    loa\n",
       "mmsi                                                                     \n",
       "1      Unknown   Unknown         7  42.0/48.0/57.0/90.0/138.0/154.0/156.0\n",
       "9      Unknown   Unknown         2                              50.0/62.0\n",
       "21     Unknown   Unknown         1                                  208.0\n",
       "74     Unknown   Unknown         1                                  155.0\n",
       "103    Unknown   Unknown         2                             26.0/155.0\n",
       "310   Bermuda    Foreign         1                                   47.0"
      ]
     },
     "execution_count": 21,
     "metadata": {},
     "output_type": "execute_result"
    }
   ],
   "source": [
    "vessels.loc[:310, 'flag':'loa']"
   ]
  },
  {
   "cell_type": "markdown",
   "metadata": {},
   "source": [
    "In addition to using `loc` to select rows and columns by **label**, pandas also allows indexing by **position** using the `iloc` attribute.\n",
    "\n",
    "So, we can query rows and columns by absolute position, rather than by name:"
   ]
  },
  {
   "cell_type": "code",
   "execution_count": 23,
   "metadata": {},
   "outputs": [
    {
     "data": {
      "text/html": [
       "<div>\n",
       "<style>\n",
       "    .dataframe thead tr:only-child th {\n",
       "        text-align: right;\n",
       "    }\n",
       "\n",
       "    .dataframe thead th {\n",
       "        text-align: left;\n",
       "    }\n",
       "\n",
       "    .dataframe tbody tr th {\n",
       "        vertical-align: top;\n",
       "    }\n",
       "</style>\n",
       "<table border=\"1\" class=\"dataframe\">\n",
       "  <thead>\n",
       "    <tr style=\"text-align: right;\">\n",
       "      <th></th>\n",
       "      <th>num_loas</th>\n",
       "      <th>loa</th>\n",
       "      <th>max_loa</th>\n",
       "    </tr>\n",
       "    <tr>\n",
       "      <th>mmsi</th>\n",
       "      <th></th>\n",
       "      <th></th>\n",
       "      <th></th>\n",
       "    </tr>\n",
       "  </thead>\n",
       "  <tbody>\n",
       "    <tr>\n",
       "      <th>1</th>\n",
       "      <td>7</td>\n",
       "      <td>42.0/48.0/57.0/90.0/138.0/154.0/156.0</td>\n",
       "      <td>156.0</td>\n",
       "    </tr>\n",
       "    <tr>\n",
       "      <th>9</th>\n",
       "      <td>2</td>\n",
       "      <td>50.0/62.0</td>\n",
       "      <td>62.0</td>\n",
       "    </tr>\n",
       "    <tr>\n",
       "      <th>21</th>\n",
       "      <td>1</td>\n",
       "      <td>208.0</td>\n",
       "      <td>208.0</td>\n",
       "    </tr>\n",
       "    <tr>\n",
       "      <th>74</th>\n",
       "      <td>1</td>\n",
       "      <td>155.0</td>\n",
       "      <td>155.0</td>\n",
       "    </tr>\n",
       "    <tr>\n",
       "      <th>103</th>\n",
       "      <td>2</td>\n",
       "      <td>26.0/155.0</td>\n",
       "      <td>155.0</td>\n",
       "    </tr>\n",
       "  </tbody>\n",
       "</table>\n",
       "</div>"
      ],
      "text/plain": [
       "      num_loas                                    loa  max_loa\n",
       "mmsi                                                          \n",
       "1            7  42.0/48.0/57.0/90.0/138.0/154.0/156.0    156.0\n",
       "9            2                              50.0/62.0     62.0\n",
       "21           1                                  208.0    208.0\n",
       "74           1                                  155.0    155.0\n",
       "103          2                             26.0/155.0    155.0"
      ]
     },
     "execution_count": 23,
     "metadata": {},
     "output_type": "execute_result"
    }
   ],
   "source": [
    "vessels.iloc[:5, 5:8]"
   ]
  },
  {
   "cell_type": "markdown",
   "metadata": {},
   "source": [
    "### Exercise\n",
    "\n",
    "You can use the `isin` method query a DataFrame based upon a list of values as follows: \n",
    "\n",
    "    data['color'].isin(['red', 'blue'])\n",
    "\n",
    "Use `isin` to find all ships that registered in either Denmark or Japan. How many records contain these values?"
   ]
  },
  {
   "cell_type": "code",
   "execution_count": 30,
   "metadata": {},
   "outputs": [],
   "source": [
    "vessels['flag'] = vessels.flag.str.strip()"
   ]
  },
  {
   "cell_type": "code",
   "execution_count": 39,
   "metadata": {},
   "outputs": [
    {
     "data": {
      "text/plain": [
       "mmsi\n",
       "1            False\n",
       "9            False\n",
       "21           False\n",
       "74           False\n",
       "103          False\n",
       "310          False\n",
       "3011         False\n",
       "4731         False\n",
       "15151        False\n",
       "46809        False\n",
       "80404        False\n",
       "82003        False\n",
       "298716       False\n",
       "366235       False\n",
       "439541       False\n",
       "453556       False\n",
       "505843       False\n",
       "527918       False\n",
       "565026       False\n",
       "572329       False\n",
       "587370       False\n",
       "641114       False\n",
       "642262       False\n",
       "693559       False\n",
       "883085       False\n",
       "1193046      False\n",
       "1193946      False\n",
       "1233916      False\n",
       "1239468      False\n",
       "3041300      False\n",
       "             ...  \n",
       "720728000    False\n",
       "720754000    False\n",
       "720768000    False\n",
       "725004700    False\n",
       "725005560    False\n",
       "725005570    False\n",
       "725011300    False\n",
       "725018300    False\n",
       "725019006    False\n",
       "725021000    False\n",
       "725022000    False\n",
       "730000161    False\n",
       "730010001    False\n",
       "730026000    False\n",
       "730031000    False\n",
       "735057548    False\n",
       "735059037    False\n",
       "760101000    False\n",
       "770576100    False\n",
       "812719000    False\n",
       "857632392    False\n",
       "866946820    False\n",
       "888888882    False\n",
       "888888888    False\n",
       "900000000    False\n",
       "919191919    False\n",
       "967191190    False\n",
       "975318642    False\n",
       "987654321    False\n",
       "999999999    False\n",
       "Name: flag, Length: 10771, dtype: bool"
      ]
     },
     "execution_count": 39,
     "metadata": {},
     "output_type": "execute_result"
    }
   ],
   "source": [
    "vessels.flag.isin(['Denmark', 'Japan'])"
   ]
  },
  {
   "cell_type": "code",
   "execution_count": null,
   "metadata": {},
   "outputs": [],
   "source": [
    "vessels."
   ]
  },
  {
   "cell_type": "markdown",
   "metadata": {},
   "source": [
    "## Indexing with `where`\n",
    "\n",
    "Pandas `DataFrame` objects also posess a `where` index for indexing that returns the values that satisfy the condition, but retain the index of the original `DataFrame`, so that the shape does not change. This is important when **alignment** is required for operations between `DataFrame`s."
   ]
  },
  {
   "cell_type": "code",
   "execution_count": 40,
   "metadata": {},
   "outputs": [
    {
     "data": {
      "text/html": [
       "<div>\n",
       "<style>\n",
       "    .dataframe thead tr:only-child th {\n",
       "        text-align: right;\n",
       "    }\n",
       "\n",
       "    .dataframe thead th {\n",
       "        text-align: left;\n",
       "    }\n",
       "\n",
       "    .dataframe tbody tr th {\n",
       "        vertical-align: top;\n",
       "    }\n",
       "</style>\n",
       "<table border=\"1\" class=\"dataframe\">\n",
       "  <thead>\n",
       "    <tr style=\"text-align: right;\">\n",
       "      <th></th>\n",
       "      <th>x0</th>\n",
       "      <th>x1</th>\n",
       "      <th>x2</th>\n",
       "      <th>x3</th>\n",
       "      <th>x4</th>\n",
       "    </tr>\n",
       "  </thead>\n",
       "  <tbody>\n",
       "    <tr>\n",
       "      <th>0</th>\n",
       "      <td>0.496714</td>\n",
       "      <td>-1.415371</td>\n",
       "      <td>0.357787</td>\n",
       "      <td>-0.828995</td>\n",
       "      <td>-1.594428</td>\n",
       "    </tr>\n",
       "    <tr>\n",
       "      <th>1</th>\n",
       "      <td>-0.138264</td>\n",
       "      <td>-0.420645</td>\n",
       "      <td>0.560785</td>\n",
       "      <td>-0.560181</td>\n",
       "      <td>-0.599375</td>\n",
       "    </tr>\n",
       "    <tr>\n",
       "      <th>2</th>\n",
       "      <td>0.647689</td>\n",
       "      <td>-0.342715</td>\n",
       "      <td>1.083051</td>\n",
       "      <td>0.747294</td>\n",
       "      <td>0.005244</td>\n",
       "    </tr>\n",
       "    <tr>\n",
       "      <th>3</th>\n",
       "      <td>1.523030</td>\n",
       "      <td>-0.802277</td>\n",
       "      <td>1.053802</td>\n",
       "      <td>0.610370</td>\n",
       "      <td>0.046981</td>\n",
       "    </tr>\n",
       "    <tr>\n",
       "      <th>4</th>\n",
       "      <td>-0.234153</td>\n",
       "      <td>-0.161286</td>\n",
       "      <td>-1.377669</td>\n",
       "      <td>-0.020902</td>\n",
       "      <td>-0.450065</td>\n",
       "    </tr>\n",
       "  </tbody>\n",
       "</table>\n",
       "</div>"
      ],
      "text/plain": [
       "         x0        x1        x2        x3        x4\n",
       "0  0.496714 -1.415371  0.357787 -0.828995 -1.594428\n",
       "1 -0.138264 -0.420645  0.560785 -0.560181 -0.599375\n",
       "2  0.647689 -0.342715  1.083051  0.747294  0.005244\n",
       "3  1.523030 -0.802277  1.053802  0.610370  0.046981\n",
       "4 -0.234153 -0.161286 -1.377669 -0.020902 -0.450065"
      ]
     },
     "execution_count": 40,
     "metadata": {},
     "output_type": "execute_result"
    }
   ],
   "source": [
    "np.random.seed(42)\n",
    "normal_vals = pd.DataFrame({'x{}'.format(i):np.random.randn(100) for i in range(5)})\n",
    "\n",
    "normal_vals.head()"
   ]
  },
  {
   "cell_type": "code",
   "execution_count": 41,
   "metadata": {},
   "outputs": [
    {
     "data": {
      "text/html": [
       "<div>\n",
       "<style>\n",
       "    .dataframe thead tr:only-child th {\n",
       "        text-align: right;\n",
       "    }\n",
       "\n",
       "    .dataframe thead th {\n",
       "        text-align: left;\n",
       "    }\n",
       "\n",
       "    .dataframe tbody tr th {\n",
       "        vertical-align: top;\n",
       "    }\n",
       "</style>\n",
       "<table border=\"1\" class=\"dataframe\">\n",
       "  <thead>\n",
       "    <tr style=\"text-align: right;\">\n",
       "      <th></th>\n",
       "      <th>x0</th>\n",
       "      <th>x1</th>\n",
       "      <th>x2</th>\n",
       "      <th>x3</th>\n",
       "      <th>x4</th>\n",
       "    </tr>\n",
       "  </thead>\n",
       "  <tbody>\n",
       "    <tr>\n",
       "      <th>0</th>\n",
       "      <td>0.496714</td>\n",
       "      <td>NaN</td>\n",
       "      <td>0.357787</td>\n",
       "      <td>NaN</td>\n",
       "      <td>NaN</td>\n",
       "    </tr>\n",
       "    <tr>\n",
       "      <th>1</th>\n",
       "      <td>NaN</td>\n",
       "      <td>NaN</td>\n",
       "      <td>0.560785</td>\n",
       "      <td>NaN</td>\n",
       "      <td>NaN</td>\n",
       "    </tr>\n",
       "    <tr>\n",
       "      <th>2</th>\n",
       "      <td>0.647689</td>\n",
       "      <td>NaN</td>\n",
       "      <td>1.083051</td>\n",
       "      <td>0.747294</td>\n",
       "      <td>0.005244</td>\n",
       "    </tr>\n",
       "    <tr>\n",
       "      <th>3</th>\n",
       "      <td>1.523030</td>\n",
       "      <td>NaN</td>\n",
       "      <td>1.053802</td>\n",
       "      <td>0.610370</td>\n",
       "      <td>0.046981</td>\n",
       "    </tr>\n",
       "    <tr>\n",
       "      <th>4</th>\n",
       "      <td>NaN</td>\n",
       "      <td>NaN</td>\n",
       "      <td>NaN</td>\n",
       "      <td>NaN</td>\n",
       "      <td>NaN</td>\n",
       "    </tr>\n",
       "  </tbody>\n",
       "</table>\n",
       "</div>"
      ],
      "text/plain": [
       "         x0  x1        x2        x3        x4\n",
       "0  0.496714 NaN  0.357787       NaN       NaN\n",
       "1       NaN NaN  0.560785       NaN       NaN\n",
       "2  0.647689 NaN  1.083051  0.747294  0.005244\n",
       "3  1.523030 NaN  1.053802  0.610370  0.046981\n",
       "4       NaN NaN       NaN       NaN       NaN"
      ]
     },
     "execution_count": 41,
     "metadata": {},
     "output_type": "execute_result"
    }
   ],
   "source": [
    "normal_vals.where(normal_vals>0).head()"
   ]
  },
  {
   "cell_type": "markdown",
   "metadata": {},
   "source": [
    "`where` includes an optional `other` argument that accepts a scalar or tabular values (or a callable) to replace values in the `DataFrame` that do not satisfy the condition.\n",
    "\n",
    "For example, we can use this to return the absolute values of `X`:"
   ]
  },
  {
   "cell_type": "code",
   "execution_count": 42,
   "metadata": {},
   "outputs": [
    {
     "data": {
      "text/html": [
       "<div>\n",
       "<style>\n",
       "    .dataframe thead tr:only-child th {\n",
       "        text-align: right;\n",
       "    }\n",
       "\n",
       "    .dataframe thead th {\n",
       "        text-align: left;\n",
       "    }\n",
       "\n",
       "    .dataframe tbody tr th {\n",
       "        vertical-align: top;\n",
       "    }\n",
       "</style>\n",
       "<table border=\"1\" class=\"dataframe\">\n",
       "  <thead>\n",
       "    <tr style=\"text-align: right;\">\n",
       "      <th></th>\n",
       "      <th>x0</th>\n",
       "      <th>x1</th>\n",
       "      <th>x2</th>\n",
       "      <th>x3</th>\n",
       "      <th>x4</th>\n",
       "    </tr>\n",
       "  </thead>\n",
       "  <tbody>\n",
       "    <tr>\n",
       "      <th>0</th>\n",
       "      <td>0.496714</td>\n",
       "      <td>1.415371</td>\n",
       "      <td>0.357787</td>\n",
       "      <td>0.828995</td>\n",
       "      <td>1.594428</td>\n",
       "    </tr>\n",
       "    <tr>\n",
       "      <th>1</th>\n",
       "      <td>0.138264</td>\n",
       "      <td>0.420645</td>\n",
       "      <td>0.560785</td>\n",
       "      <td>0.560181</td>\n",
       "      <td>0.599375</td>\n",
       "    </tr>\n",
       "    <tr>\n",
       "      <th>2</th>\n",
       "      <td>0.647689</td>\n",
       "      <td>0.342715</td>\n",
       "      <td>1.083051</td>\n",
       "      <td>0.747294</td>\n",
       "      <td>0.005244</td>\n",
       "    </tr>\n",
       "    <tr>\n",
       "      <th>3</th>\n",
       "      <td>1.523030</td>\n",
       "      <td>0.802277</td>\n",
       "      <td>1.053802</td>\n",
       "      <td>0.610370</td>\n",
       "      <td>0.046981</td>\n",
       "    </tr>\n",
       "    <tr>\n",
       "      <th>4</th>\n",
       "      <td>0.234153</td>\n",
       "      <td>0.161286</td>\n",
       "      <td>1.377669</td>\n",
       "      <td>0.020902</td>\n",
       "      <td>0.450065</td>\n",
       "    </tr>\n",
       "  </tbody>\n",
       "</table>\n",
       "</div>"
      ],
      "text/plain": [
       "         x0        x1        x2        x3        x4\n",
       "0  0.496714  1.415371  0.357787  0.828995  1.594428\n",
       "1  0.138264  0.420645  0.560785  0.560181  0.599375\n",
       "2  0.647689  0.342715  1.083051  0.747294  0.005244\n",
       "3  1.523030  0.802277  1.053802  0.610370  0.046981\n",
       "4  0.234153  0.161286  1.377669  0.020902  0.450065"
      ]
     },
     "execution_count": 42,
     "metadata": {},
     "output_type": "execute_result"
    }
   ],
   "source": [
    "normal_vals.where(normal_vals>0, other=-normal_vals).head()"
   ]
  },
  {
   "cell_type": "markdown",
   "metadata": {},
   "source": [
    "Similarly, a callable can be used when we need to modify the replaced value:"
   ]
  },
  {
   "cell_type": "code",
   "execution_count": 43,
   "metadata": {},
   "outputs": [
    {
     "data": {
      "text/html": [
       "<div>\n",
       "<style>\n",
       "    .dataframe thead tr:only-child th {\n",
       "        text-align: right;\n",
       "    }\n",
       "\n",
       "    .dataframe thead th {\n",
       "        text-align: left;\n",
       "    }\n",
       "\n",
       "    .dataframe tbody tr th {\n",
       "        vertical-align: top;\n",
       "    }\n",
       "</style>\n",
       "<table border=\"1\" class=\"dataframe\">\n",
       "  <thead>\n",
       "    <tr style=\"text-align: right;\">\n",
       "      <th></th>\n",
       "      <th>x0</th>\n",
       "      <th>x1</th>\n",
       "      <th>x2</th>\n",
       "      <th>x3</th>\n",
       "      <th>x4</th>\n",
       "    </tr>\n",
       "  </thead>\n",
       "  <tbody>\n",
       "    <tr>\n",
       "      <th>0</th>\n",
       "      <td>0.496714</td>\n",
       "      <td>141.537074</td>\n",
       "      <td>0.357787</td>\n",
       "      <td>82.899501</td>\n",
       "      <td>159.442766</td>\n",
       "    </tr>\n",
       "    <tr>\n",
       "      <th>1</th>\n",
       "      <td>13.826430</td>\n",
       "      <td>42.064532</td>\n",
       "      <td>0.560785</td>\n",
       "      <td>56.018104</td>\n",
       "      <td>59.937502</td>\n",
       "    </tr>\n",
       "    <tr>\n",
       "      <th>2</th>\n",
       "      <td>0.647689</td>\n",
       "      <td>34.271452</td>\n",
       "      <td>1.083051</td>\n",
       "      <td>0.747294</td>\n",
       "      <td>0.005244</td>\n",
       "    </tr>\n",
       "    <tr>\n",
       "      <th>3</th>\n",
       "      <td>1.523030</td>\n",
       "      <td>80.227727</td>\n",
       "      <td>1.053802</td>\n",
       "      <td>0.610370</td>\n",
       "      <td>0.046981</td>\n",
       "    </tr>\n",
       "    <tr>\n",
       "      <th>4</th>\n",
       "      <td>23.415337</td>\n",
       "      <td>16.128571</td>\n",
       "      <td>137.766937</td>\n",
       "      <td>2.090159</td>\n",
       "      <td>45.006547</td>\n",
       "    </tr>\n",
       "  </tbody>\n",
       "</table>\n",
       "</div>"
      ],
      "text/plain": [
       "          x0          x1          x2         x3          x4\n",
       "0   0.496714  141.537074    0.357787  82.899501  159.442766\n",
       "1  13.826430   42.064532    0.560785  56.018104   59.937502\n",
       "2   0.647689   34.271452    1.083051   0.747294    0.005244\n",
       "3   1.523030   80.227727    1.053802   0.610370    0.046981\n",
       "4  23.415337   16.128571  137.766937   2.090159   45.006547"
      ]
     },
     "execution_count": 43,
     "metadata": {},
     "output_type": "execute_result"
    }
   ],
   "source": [
    "normal_vals.where(normal_vals>0, other=lambda y: -y*100).head()"
   ]
  },
  {
   "cell_type": "markdown",
   "metadata": {},
   "source": [
    "Conversely, `mask` is the inverse boolean of `where`:"
   ]
  },
  {
   "cell_type": "code",
   "execution_count": 44,
   "metadata": {},
   "outputs": [
    {
     "data": {
      "text/html": [
       "<div>\n",
       "<style>\n",
       "    .dataframe thead tr:only-child th {\n",
       "        text-align: right;\n",
       "    }\n",
       "\n",
       "    .dataframe thead th {\n",
       "        text-align: left;\n",
       "    }\n",
       "\n",
       "    .dataframe tbody tr th {\n",
       "        vertical-align: top;\n",
       "    }\n",
       "</style>\n",
       "<table border=\"1\" class=\"dataframe\">\n",
       "  <thead>\n",
       "    <tr style=\"text-align: right;\">\n",
       "      <th></th>\n",
       "      <th>x0</th>\n",
       "      <th>x1</th>\n",
       "      <th>x2</th>\n",
       "      <th>x3</th>\n",
       "      <th>x4</th>\n",
       "    </tr>\n",
       "  </thead>\n",
       "  <tbody>\n",
       "    <tr>\n",
       "      <th>0</th>\n",
       "      <td>NaN</td>\n",
       "      <td>-1.415371</td>\n",
       "      <td>NaN</td>\n",
       "      <td>-0.828995</td>\n",
       "      <td>-1.594428</td>\n",
       "    </tr>\n",
       "    <tr>\n",
       "      <th>1</th>\n",
       "      <td>-0.138264</td>\n",
       "      <td>-0.420645</td>\n",
       "      <td>NaN</td>\n",
       "      <td>-0.560181</td>\n",
       "      <td>-0.599375</td>\n",
       "    </tr>\n",
       "    <tr>\n",
       "      <th>2</th>\n",
       "      <td>NaN</td>\n",
       "      <td>-0.342715</td>\n",
       "      <td>NaN</td>\n",
       "      <td>NaN</td>\n",
       "      <td>NaN</td>\n",
       "    </tr>\n",
       "    <tr>\n",
       "      <th>3</th>\n",
       "      <td>NaN</td>\n",
       "      <td>-0.802277</td>\n",
       "      <td>NaN</td>\n",
       "      <td>NaN</td>\n",
       "      <td>NaN</td>\n",
       "    </tr>\n",
       "    <tr>\n",
       "      <th>4</th>\n",
       "      <td>-0.234153</td>\n",
       "      <td>-0.161286</td>\n",
       "      <td>-1.377669</td>\n",
       "      <td>-0.020902</td>\n",
       "      <td>-0.450065</td>\n",
       "    </tr>\n",
       "  </tbody>\n",
       "</table>\n",
       "</div>"
      ],
      "text/plain": [
       "         x0        x1        x2        x3        x4\n",
       "0       NaN -1.415371       NaN -0.828995 -1.594428\n",
       "1 -0.138264 -0.420645       NaN -0.560181 -0.599375\n",
       "2       NaN -0.342715       NaN       NaN       NaN\n",
       "3       NaN -0.802277       NaN       NaN       NaN\n",
       "4 -0.234153 -0.161286 -1.377669 -0.020902 -0.450065"
      ]
     },
     "execution_count": 44,
     "metadata": {},
     "output_type": "execute_result"
    }
   ],
   "source": [
    "normal_vals.mask(normal_vals>0).head()"
   ]
  },
  {
   "cell_type": "markdown",
   "metadata": {},
   "source": [
    "## Selection with `query`\n",
    "\n",
    "At times, selection using indexing can be verbose because it requires repeated use of the `DataFrame` namespace."
   ]
  },
  {
   "cell_type": "code",
   "execution_count": 45,
   "metadata": {},
   "outputs": [
    {
     "data": {
      "text/html": [
       "<div>\n",
       "<style>\n",
       "    .dataframe thead tr:only-child th {\n",
       "        text-align: right;\n",
       "    }\n",
       "\n",
       "    .dataframe thead th {\n",
       "        text-align: left;\n",
       "    }\n",
       "\n",
       "    .dataframe tbody tr th {\n",
       "        vertical-align: top;\n",
       "    }\n",
       "</style>\n",
       "<table border=\"1\" class=\"dataframe\">\n",
       "  <thead>\n",
       "    <tr style=\"text-align: right;\">\n",
       "      <th></th>\n",
       "      <th>x0</th>\n",
       "      <th>x1</th>\n",
       "      <th>x2</th>\n",
       "      <th>x3</th>\n",
       "      <th>x4</th>\n",
       "    </tr>\n",
       "  </thead>\n",
       "  <tbody>\n",
       "    <tr>\n",
       "      <th>4</th>\n",
       "      <td>-0.234153</td>\n",
       "      <td>-0.161286</td>\n",
       "      <td>-1.377669</td>\n",
       "      <td>-0.020902</td>\n",
       "      <td>-0.450065</td>\n",
       "    </tr>\n",
       "    <tr>\n",
       "      <th>5</th>\n",
       "      <td>-0.234137</td>\n",
       "      <td>0.404051</td>\n",
       "      <td>-0.937825</td>\n",
       "      <td>0.117327</td>\n",
       "      <td>0.622850</td>\n",
       "    </tr>\n",
       "    <tr>\n",
       "      <th>6</th>\n",
       "      <td>1.579213</td>\n",
       "      <td>1.886186</td>\n",
       "      <td>0.515035</td>\n",
       "      <td>1.277665</td>\n",
       "      <td>-1.067620</td>\n",
       "    </tr>\n",
       "    <tr>\n",
       "      <th>8</th>\n",
       "      <td>-0.469474</td>\n",
       "      <td>0.257550</td>\n",
       "      <td>0.515048</td>\n",
       "      <td>0.547097</td>\n",
       "      <td>0.120296</td>\n",
       "    </tr>\n",
       "    <tr>\n",
       "      <th>13</th>\n",
       "      <td>-1.913280</td>\n",
       "      <td>2.463242</td>\n",
       "      <td>0.651391</td>\n",
       "      <td>0.813510</td>\n",
       "      <td>1.277677</td>\n",
       "    </tr>\n",
       "  </tbody>\n",
       "</table>\n",
       "</div>"
      ],
      "text/plain": [
       "          x0        x1        x2        x3        x4\n",
       "4  -0.234153 -0.161286 -1.377669 -0.020902 -0.450065\n",
       "5  -0.234137  0.404051 -0.937825  0.117327  0.622850\n",
       "6   1.579213  1.886186  0.515035  1.277665 -1.067620\n",
       "8  -0.469474  0.257550  0.515048  0.547097  0.120296\n",
       "13 -1.913280  2.463242  0.651391  0.813510  1.277677"
      ]
     },
     "execution_count": 45,
     "metadata": {},
     "output_type": "execute_result"
    }
   ],
   "source": [
    "normal_vals[(normal_vals.x1 > normal_vals.x0) & (normal_vals.x3 > normal_vals.x2)].head()"
   ]
  },
  {
   "cell_type": "markdown",
   "metadata": {},
   "source": [
    "For a more concise (and readable) syntax, we can use the new `query` method to perform selection on a `DataFrame`. Instead of having to type the fully-specified column, we can simply pass a string that describes what to select. The query above is then simply:"
   ]
  },
  {
   "cell_type": "code",
   "execution_count": 46,
   "metadata": {},
   "outputs": [
    {
     "data": {
      "text/html": [
       "<div>\n",
       "<style>\n",
       "    .dataframe thead tr:only-child th {\n",
       "        text-align: right;\n",
       "    }\n",
       "\n",
       "    .dataframe thead th {\n",
       "        text-align: left;\n",
       "    }\n",
       "\n",
       "    .dataframe tbody tr th {\n",
       "        vertical-align: top;\n",
       "    }\n",
       "</style>\n",
       "<table border=\"1\" class=\"dataframe\">\n",
       "  <thead>\n",
       "    <tr style=\"text-align: right;\">\n",
       "      <th></th>\n",
       "      <th>x0</th>\n",
       "      <th>x1</th>\n",
       "      <th>x2</th>\n",
       "      <th>x3</th>\n",
       "      <th>x4</th>\n",
       "    </tr>\n",
       "  </thead>\n",
       "  <tbody>\n",
       "    <tr>\n",
       "      <th>4</th>\n",
       "      <td>-0.234153</td>\n",
       "      <td>-0.161286</td>\n",
       "      <td>-1.377669</td>\n",
       "      <td>-0.020902</td>\n",
       "      <td>-0.450065</td>\n",
       "    </tr>\n",
       "    <tr>\n",
       "      <th>5</th>\n",
       "      <td>-0.234137</td>\n",
       "      <td>0.404051</td>\n",
       "      <td>-0.937825</td>\n",
       "      <td>0.117327</td>\n",
       "      <td>0.622850</td>\n",
       "    </tr>\n",
       "    <tr>\n",
       "      <th>6</th>\n",
       "      <td>1.579213</td>\n",
       "      <td>1.886186</td>\n",
       "      <td>0.515035</td>\n",
       "      <td>1.277665</td>\n",
       "      <td>-1.067620</td>\n",
       "    </tr>\n",
       "    <tr>\n",
       "      <th>8</th>\n",
       "      <td>-0.469474</td>\n",
       "      <td>0.257550</td>\n",
       "      <td>0.515048</td>\n",
       "      <td>0.547097</td>\n",
       "      <td>0.120296</td>\n",
       "    </tr>\n",
       "    <tr>\n",
       "      <th>13</th>\n",
       "      <td>-1.913280</td>\n",
       "      <td>2.463242</td>\n",
       "      <td>0.651391</td>\n",
       "      <td>0.813510</td>\n",
       "      <td>1.277677</td>\n",
       "    </tr>\n",
       "  </tbody>\n",
       "</table>\n",
       "</div>"
      ],
      "text/plain": [
       "          x0        x1        x2        x3        x4\n",
       "4  -0.234153 -0.161286 -1.377669 -0.020902 -0.450065\n",
       "5  -0.234137  0.404051 -0.937825  0.117327  0.622850\n",
       "6   1.579213  1.886186  0.515035  1.277665 -1.067620\n",
       "8  -0.469474  0.257550  0.515048  0.547097  0.120296\n",
       "13 -1.913280  2.463242  0.651391  0.813510  1.277677"
      ]
     },
     "execution_count": 46,
     "metadata": {},
     "output_type": "execute_result"
    }
   ],
   "source": [
    "normal_vals.query('(x1 > x0) & (x3 > x2)').head()"
   ]
  },
  {
   "cell_type": "markdown",
   "metadata": {},
   "source": [
    "The `DataFrame.index` and `DataFrame.columns` are placed in the query namespace by default. If you want to refer to a variable in the current namespace, you can prefix the variable with `@`:"
   ]
  },
  {
   "cell_type": "code",
   "execution_count": 47,
   "metadata": {},
   "outputs": [],
   "source": [
    "min_loa = 700"
   ]
  },
  {
   "cell_type": "code",
   "execution_count": 48,
   "metadata": {},
   "outputs": [
    {
     "data": {
      "text/html": [
       "<div>\n",
       "<style>\n",
       "    .dataframe thead tr:only-child th {\n",
       "        text-align: right;\n",
       "    }\n",
       "\n",
       "    .dataframe thead th {\n",
       "        text-align: left;\n",
       "    }\n",
       "\n",
       "    .dataframe tbody tr th {\n",
       "        vertical-align: top;\n",
       "    }\n",
       "</style>\n",
       "<table border=\"1\" class=\"dataframe\">\n",
       "  <thead>\n",
       "    <tr style=\"text-align: right;\">\n",
       "      <th></th>\n",
       "      <th>num_names</th>\n",
       "      <th>names</th>\n",
       "      <th>sov</th>\n",
       "      <th>flag</th>\n",
       "      <th>flag_type</th>\n",
       "      <th>num_loas</th>\n",
       "      <th>loa</th>\n",
       "      <th>max_loa</th>\n",
       "      <th>num_types</th>\n",
       "      <th>type</th>\n",
       "    </tr>\n",
       "    <tr>\n",
       "      <th>mmsi</th>\n",
       "      <th></th>\n",
       "      <th></th>\n",
       "      <th></th>\n",
       "      <th></th>\n",
       "      <th></th>\n",
       "      <th></th>\n",
       "      <th></th>\n",
       "      <th></th>\n",
       "      <th></th>\n",
       "      <th></th>\n",
       "    </tr>\n",
       "  </thead>\n",
       "  <tbody>\n",
       "    <tr>\n",
       "      <th>211311970</th>\n",
       "      <td>2</td>\n",
       "      <td>Antwerpen Express/Dallas Express</td>\n",
       "      <td>N</td>\n",
       "      <td>Germany (Federal Republic of)</td>\n",
       "      <td>Foreign</td>\n",
       "      <td>3</td>\n",
       "      <td>294.0/512.0/806.0</td>\n",
       "      <td>806.0</td>\n",
       "      <td>1</td>\n",
       "      <td>Cargo</td>\n",
       "    </tr>\n",
       "    <tr>\n",
       "      <th>218292000</th>\n",
       "      <td>1</td>\n",
       "      <td>Seapike</td>\n",
       "      <td>N</td>\n",
       "      <td>Germany (Federal Republic of)</td>\n",
       "      <td>Foreign</td>\n",
       "      <td>3</td>\n",
       "      <td>199.0/200.0/711.0</td>\n",
       "      <td>711.0</td>\n",
       "      <td>1</td>\n",
       "      <td>Tanker</td>\n",
       "    </tr>\n",
       "    <tr>\n",
       "      <th>235760000</th>\n",
       "      <td>1</td>\n",
       "      <td>Methane Princess</td>\n",
       "      <td>N</td>\n",
       "      <td>United Kingdom of Great Britain and Northern I...</td>\n",
       "      <td>Foreign</td>\n",
       "      <td>2</td>\n",
       "      <td>277.0/789.0</td>\n",
       "      <td>789.0</td>\n",
       "      <td>1</td>\n",
       "      <td>Tanker</td>\n",
       "    </tr>\n",
       "    <tr>\n",
       "      <th>354092000</th>\n",
       "      <td>1</td>\n",
       "      <td>Msc Laura</td>\n",
       "      <td>N</td>\n",
       "      <td>Panama (Republic of)</td>\n",
       "      <td>Foreign</td>\n",
       "      <td>3</td>\n",
       "      <td>300.0/301.0/812.0</td>\n",
       "      <td>812.0</td>\n",
       "      <td>1</td>\n",
       "      <td>Cargo</td>\n",
       "    </tr>\n",
       "    <tr>\n",
       "      <th>538090124</th>\n",
       "      <td>1</td>\n",
       "      <td>Pacific Destiny</td>\n",
       "      <td>N</td>\n",
       "      <td>Marshall Islands (Republic of the)</td>\n",
       "      <td>Foreign</td>\n",
       "      <td>2</td>\n",
       "      <td>196.0/708.0</td>\n",
       "      <td>708.0</td>\n",
       "      <td>1</td>\n",
       "      <td>Cargo</td>\n",
       "    </tr>\n",
       "  </tbody>\n",
       "</table>\n",
       "</div>"
      ],
      "text/plain": [
       "           num_names                             names sov  \\\n",
       "mmsi                                                         \n",
       "211311970          2  Antwerpen Express/Dallas Express   N   \n",
       "218292000          1                           Seapike   N   \n",
       "235760000          1                  Methane Princess   N   \n",
       "354092000          1                         Msc Laura   N   \n",
       "538090124          1                   Pacific Destiny   N   \n",
       "\n",
       "                                                        flag flag_type  \\\n",
       "mmsi                                                                     \n",
       "211311970                      Germany (Federal Republic of)   Foreign   \n",
       "218292000                      Germany (Federal Republic of)   Foreign   \n",
       "235760000  United Kingdom of Great Britain and Northern I...   Foreign   \n",
       "354092000                               Panama (Republic of)   Foreign   \n",
       "538090124                 Marshall Islands (Republic of the)   Foreign   \n",
       "\n",
       "           num_loas                loa  max_loa  num_types    type  \n",
       "mmsi                                                                \n",
       "211311970         3  294.0/512.0/806.0    806.0          1   Cargo  \n",
       "218292000         3  199.0/200.0/711.0    711.0          1  Tanker  \n",
       "235760000         2        277.0/789.0    789.0          1  Tanker  \n",
       "354092000         3  300.0/301.0/812.0    812.0          1   Cargo  \n",
       "538090124         2        196.0/708.0    708.0          1   Cargo  "
      ]
     },
     "execution_count": 48,
     "metadata": {},
     "output_type": "execute_result"
    }
   ],
   "source": [
    "vessels.query('max_loa > @min_loa')"
   ]
  }
 ],
 "metadata": {
  "kernelspec": {
   "display_name": "Python 3",
   "language": "python",
   "name": "python3"
  },
  "language_info": {
   "codemirror_mode": {
    "name": "ipython",
    "version": 3
   },
   "file_extension": ".py",
   "mimetype": "text/x-python",
   "name": "python",
   "nbconvert_exporter": "python",
   "pygments_lexer": "ipython3",
   "version": "3.6.1"
  },
  "toc": {
   "colors": {
    "hover_highlight": "#DAA520",
    "running_highlight": "#FF0000",
    "selected_highlight": "#FFD700"
   },
   "moveMenuLeft": true,
   "nav_menu": {
    "height": "210px",
    "width": "252px"
   },
   "navigate_menu": true,
   "number_sections": true,
   "sideBar": true,
   "threshold": "2",
   "toc_cell": true,
   "toc_section_display": "block",
   "toc_window_display": true,
   "widenNotebook": false
  },
  "widgets": {
   "state": {},
   "version": "1.1.2"
  }
 },
 "nbformat": 4,
 "nbformat_minor": 1
}
